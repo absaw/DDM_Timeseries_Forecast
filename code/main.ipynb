{
 "cells": [
  {
   "cell_type": "code",
   "execution_count": 2,
   "metadata": {},
   "outputs": [
    {
     "name": "stderr",
     "output_type": "stream",
     "text": [
      "/Users/abhishek.sawalkar/opt/anaconda3/envs/ml3/lib/python3.6/site-packages/tqdm/auto.py:22: TqdmWarning: IProgress not found. Please update jupyter and ipywidgets. See https://ipywidgets.readthedocs.io/en/stable/user_install.html\n",
      "  from .autonotebook import tqdm as notebook_tqdm\n"
     ]
    }
   ],
   "source": [
    "%matplotlib inline\n",
    "import matplotlib.pyplot as plt\n",
    "\n",
    "import numpy as np\n",
    "import pandas as pd\n",
    "\n",
    "import torch"
   ]
  },
  {
   "cell_type": "code",
   "execution_count": 3,
   "metadata": {},
   "outputs": [],
   "source": [
    "df=pd.read_csv(\"../dataset/AirQualityUCI_Italy.csv\",sep=\";\",parse_dates={ 'DateTime': ['Date','Time']},index_col='DateTime',usecols=range(5))"
   ]
  },
  {
   "cell_type": "code",
   "execution_count": 4,
   "metadata": {},
   "outputs": [
    {
     "name": "stdout",
     "output_type": "stream",
     "text": [
      "Number of nan values: CO(GT)         114\n",
      "PT08.S1(CO)    114\n",
      "NMHC(GT)       114\n",
      "dtype: int64\n",
      "Number of nan values: CO(GT)         0\n",
      "PT08.S1(CO)    0\n",
      "NMHC(GT)       0\n",
      "dtype: int64\n",
      "Shape: (9357, 3)\n"
     ]
    }
   ],
   "source": [
    "print(\"Number of nan values:\",df.isna().sum())\n",
    "df.dropna(inplace=True)\n",
    "print(\"Number of nan values:\",df.isna().sum())\n",
    "print(\"Shape:\",df.shape)"
   ]
  }
 ],
 "metadata": {
  "kernelspec": {
   "display_name": "ml3",
   "language": "python",
   "name": "python3"
  },
  "language_info": {
   "codemirror_mode": {
    "name": "ipython",
    "version": 3
   },
   "file_extension": ".py",
   "mimetype": "text/x-python",
   "name": "python",
   "nbconvert_exporter": "python",
   "pygments_lexer": "ipython3",
   "version": "3.6.2"
  },
  "orig_nbformat": 4
 },
 "nbformat": 4,
 "nbformat_minor": 2
}
